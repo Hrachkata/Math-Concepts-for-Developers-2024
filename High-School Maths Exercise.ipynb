{
 "cells": [
  {
   "cell_type": "markdown",
   "id": "4791b22e-34cd-4976-8151-8a75c3a51af6",
   "metadata": {},
   "source": [
    "# How to: Articulating robotic arm with 2 links represented by vectors in descartes coordinate system and it's range of motion hopefully"
   ]
  },
  {
   "cell_type": "markdown",
   "id": "a930050e-861b-4a8e-ac48-e9e862c6cb23",
   "metadata": {},
   "source": [
    "Needed installs for project:\n",
    "curses\n",
    "ipympl"
   ]
  },
  {
   "cell_type": "markdown",
   "id": "badc366f-674a-44fc-a1c5-2b53bb5cf7eb",
   "metadata": {},
   "source": [
    "### Step 0. Discussing with myself"
   ]
  },
  {
   "cell_type": "markdown",
   "id": "1b61438d-cd85-4e0e-8279-b189da180644",
   "metadata": {},
   "source": [
    "Q: What do we want to show?\n",
    "\n",
    "A: The idea is to simulate a robot arm much like the one below with simple vectors in 3D space.\n",
    "\n",
    "<p>Q: How would we do it?</p>\n",
    "\n",
    "A: Well i am not currently sure, but we know how to plot vectors and how hard can it be to plot 2 vectors (animate them as well if that is at all possible)\n",
    "\n",
    "Q: How will it be controlled?\n",
    "\n",
    "A: The vectors will have relatively simple controls but adding an algorithm that calculates optimal position and angles of the vectors for a given point would be nice."
   ]
  },
  {
   "cell_type": "markdown",
   "id": "3d841d6b-0b06-4517-bf13-0604a1504d4e",
   "metadata": {},
   "source": [
    "This is what i imagine under **\"robot arm\"**, as we can see it has a rotating base, which means we have to be able to rotate the first vector / first link 360° move it up and down. The second vector / second link should be able to move up and down, maybe we could also make it ball jointed much like our shoulder so it's able to move in all sides. \n",
    "##### Important things to consider:\n",
    "\n",
    "The the whole assembly cannot go below the X axis, it's 0 point being represented by the base.\n",
    "\n",
    "The second link cannot intersect with the first link, much like our elbow we cannot have our robot arm break the joint or the cables connecting it to the base with weird range of motion so we will have a limitation on the degree between the 2 links."
   ]
  },
  {
   "cell_type": "markdown",
   "id": "0e00e876-c0c0-4023-a303-7428daa82ead",
   "metadata": {},
   "source": [
    "![title](Robert.webp)"
   ]
  },
  {
   "cell_type": "markdown",
   "id": "3745e4fa-a7c4-40c0-ae19-8db316b9b5e0",
   "metadata": {},
   "source": [
    "# Step 1. Plotting the vectors"
   ]
  },
  {
   "cell_type": "markdown",
   "id": "98e25931-03c9-4cd8-95bb-c1b3e7fba8d3",
   "metadata": {},
   "source": [
    "Plotting the 2 vectors is rather simple, the next cell will showcase a simple python demo that plots the vectors and does some fancy animation with the help of matplotlib.animation, this will be our starting point."
   ]
  },
  {
   "cell_type": "code",
   "execution_count": null,
   "id": "72aed147-1710-4a26-a9d5-d47189a99eea",
   "metadata": {},
   "outputs": [],
   "source": [
    "import matplotlib.pyplot as plt\n",
    "from mpl_toolkits.mplot3d import Axes3D\n",
    "import numpy as np\n",
    "from matplotlib.animation import FuncAnimation\n",
    "from IPython.display import HTML\n",
    "\n",
    "# Increase the embed limit to allow larger animations\n",
    "plt.rcParams['animation.embed_limit'] = 50  # Set limit to 50 MB\n",
    "\n",
    "# Define the vectors\n",
    "vectors = np.array([[0, 0, 0, -1, 1, 1], [-1, 1, 1, 1, 0.2, 0.2]])\n",
    "\n",
    "# Create a figure and a 3D axis\n",
    "fig = plt.figure()\n",
    "ax = fig.add_subplot(111, projection='3d')\n",
    "\n",
    "# Function to update the view angle of the 3D plot\n",
    "def update(num):\n",
    "    ax.view_init(elev=10., azim=num)\n",
    "    return ax,\n",
    "\n",
    "# Plot the vectors\n",
    "for vector in vectors:\n",
    "    v = np.array([vector[3], vector[4], vector[5]])\n",
    "    vlength = np.linalg.norm(v)\n",
    "    ax.quiver(vector[0], vector[1], vector[2], vector[3], vector[4], vector[5])\n",
    "\n",
    "# Set axis limits and labels\n",
    "ax.set_xlim([-2, 2])\n",
    "ax.set_ylim([-2, 2])\n",
    "ax.set_zlim([0, 2])\n",
    "ax.set_xlabel('x')\n",
    "ax.set_ylabel('y')\n",
    "ax.set_zlabel('z')\n",
    "\n",
    "# Create the animation\n",
    "ani = FuncAnimation(fig, update, frames=36, interval=20, blit=False)\n",
    "\n",
    "# Display the animation in Jupyter Notebook\n",
    "HTML(ani.to_jshtml())\n"
   ]
  },
  {
   "cell_type": "markdown",
   "id": "279708f3-852f-4f93-ad2c-0d2ef777891d",
   "metadata": {},
   "source": [
    "Before moving to 3D and the fancy stuff, let's try something simpler. Let's plot an arm in 2D space."
   ]
  },
  {
   "cell_type": "code",
   "execution_count": null,
   "id": "a78cf159-d04a-4a19-be00-6908ea6ea3b3",
   "metadata": {},
   "outputs": [],
   "source": [
    "import time\n",
    "import numpy as np\n",
    "import matplotlib.pyplot as plt\n",
    "from IPython.display import display, clear_output\n",
    "\n",
    "vectors = np.array([[0,0,2,4], [2,4, 4, 3]])\n",
    "X, Y, U, V = vectors[:, 0], vectors[:, 1], vectors[:, 2], vectors[:, 3]\n",
    "plt.figure()\n",
    "ax = plt.gca()\n",
    "ax.axis('equal')\n",
    "ax.quiver(X, Y, U-X, V-Y, angles='xy', scale_units='xy', scale=1)\n",
    "ax.set_xlim([-12, 12])\n",
    "ax.spines[\"bottom\"].set_position(\"zero\")\n",
    "ax.spines[\"left\"].set_position(\"zero\")\n",
    "ax.spines[\"top\"].set_visible(False)\n",
    "ax.spines[\"right\"].set_visible(False)\n",
    "ax.set_xticks( [n for n in range(-12, 13) if n != 0] )\n",
    "ax.set_yticks(range(-12, 13))\n",
    "ax.grid(True)\n",
    "display(plt)"
   ]
  },
  {
   "cell_type": "code",
   "execution_count": null,
   "id": "62685e69-efa6-4e43-a1b3-7ff35f21916c",
   "metadata": {},
   "outputs": [],
   "source": [
    "import math\n",
    "\n",
    "def rotate_vector_cartesian(vector, angle_deg):\n",
    "    # Convert angle from degrees to radians\n",
    "    angle_rad = math.radians(angle_deg)\n",
    "    \n",
    "    # Extract components of the vector\n",
    "    x, y = vector\n",
    "    \n",
    "    # Calculate the new coordinates after rotation\n",
    "    new_x = x * math.cos(angle_rad) - y * math.sin(angle_rad)\n",
    "    new_y = x * math.sin(angle_rad) + y * math.cos(angle_rad)\n",
    "    \n",
    "    # Return the rotated vector\n",
    "    return new_x, new_y"
   ]
  },
  {
   "cell_type": "code",
   "execution_count": null,
   "id": "0f65c71c-048c-4c68-a208-2e5af41477cc",
   "metadata": {},
   "outputs": [],
   "source": [
    "import time\n",
    "import numpy as np\n",
    "import matplotlib.pyplot as plt\n",
    "from IPython.display import display, clear_output\n",
    "\n",
    "# Create a figure and a line object\n",
    "fig, ax = plt.subplots()\n",
    "vectors = np.array([[0,0,4,4]])\n",
    "X, Y, U, V = vectors[:, 0], vectors[:, 1], vectors[:, 2], vectors[:, 3]\n",
    "\n",
    "print(command)\n",
    "\n",
    "for frame in range(10):\n",
    "    U,V = rotate_vector_cartesian([U, V], 5)\n",
    "    line = ax.quiver(X, Y, U, V, angles='xy', scale_units='xy', scale=1)\n",
    "    ax.relim() \n",
    "    ax.autoscale_view(True,True,True)\n",
    "    clear_output(wait=True)\n",
    "    display(fig)\n",
    "    ax.cla()\n",
    "    ax.grid(True)\n",
    "    ax.set_xlim([-11, 10])\n",
    "    ax.set_ylim([-11, 10])\n",
    "    ax.spines[\"bottom\"].set_position(\"zero\")\n",
    "    ax.spines[\"left\"].set_position(\"zero\")\n",
    "    ax.axis('equal')\n",
    "plt.close()  # Close figure when done\n"
   ]
  },
  {
   "cell_type": "code",
   "execution_count": null,
   "id": "f8e7cc61-6476-4aa2-bf3e-540403904edd",
   "metadata": {},
   "outputs": [
    {
     "name": "stdout",
     "output_type": "stream",
     "text": [
      "ctrl\n",
      "f\n",
      "f\n",
      "f\n",
      "f\n",
      "f\n",
      "f\n",
      "f\n",
      "f\n"
     ]
    }
   ],
   "source": [
    "import keyboard\n",
    " \n",
    "while True:\n",
    "   \n",
    "    print(keyboard.read_key())\n",
    "    if keyboard.read_key() == \"a\":\n",
    "        break"
   ]
  },
  {
   "cell_type": "code",
   "execution_count": null,
   "id": "5270f411-bafe-4127-8f28-583183d075ca",
   "metadata": {},
   "outputs": [],
   "source": []
  },
  {
   "cell_type": "code",
   "execution_count": null,
   "id": "52ffa5c2-a25e-42cc-a531-77edfb818e80",
   "metadata": {},
   "outputs": [],
   "source": []
  },
  {
   "cell_type": "code",
   "execution_count": null,
   "id": "85b0a65e-7d14-476f-9756-b9074c4f76ff",
   "metadata": {},
   "outputs": [],
   "source": []
  },
  {
   "cell_type": "code",
   "execution_count": null,
   "id": "449baec1-5321-4f56-8071-bd41c5af0f15",
   "metadata": {},
   "outputs": [],
   "source": []
  },
  {
   "cell_type": "code",
   "execution_count": null,
   "id": "e534bd10-2f3b-4be8-b251-5be51ef7f817",
   "metadata": {},
   "outputs": [],
   "source": []
  }
 ],
 "metadata": {
  "kernelspec": {
   "display_name": "Python 3 (ipykernel)",
   "language": "python",
   "name": "python3"
  },
  "language_info": {
   "codemirror_mode": {
    "name": "ipython",
    "version": 3
   },
   "file_extension": ".py",
   "mimetype": "text/x-python",
   "name": "python",
   "nbconvert_exporter": "python",
   "pygments_lexer": "ipython3",
   "version": "3.11.7"
  }
 },
 "nbformat": 4,
 "nbformat_minor": 5
}
